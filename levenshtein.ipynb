{
 "cells": [
  {
   "cell_type": "code",
   "execution_count": 127,
   "metadata": {},
   "outputs": [],
   "source": [
    "# Import lirbary for levenshtein calculations\n",
    "from rapidfuzz.distance import Levenshtein\n",
    "# Import library for reading CSV files\n",
    "import csv\n",
    "import pandas as pd\n",
    "import random\n",
    "from pyphonetics import Soundex # Depreceated because of false positives and false negatives\n",
    "from metaphone import doublemetaphone # https://pypi.org/project/Metaphone/\n",
    "import os"
   ]
  },
  {
   "cell_type": "code",
   "execution_count": 129,
   "metadata": {},
   "outputs": [],
   "source": [
    "soundex = Soundex()"
   ]
  },
  {
   "cell_type": "code",
   "execution_count": 4,
   "metadata": {},
   "outputs": [],
   "source": [
    "path = '/path/to/sorted/csv/dictionaries'"
   ]
  },
  {
   "cell_type": "code",
   "execution_count": 164,
   "metadata": {},
   "outputs": [],
   "source": [
    "csv_header = ['Word 1', 'Word 2', 'Levenshtein Distance', 'Soundex Match']"
   ]
  },
  {
   "cell_type": "code",
   "execution_count": 6,
   "metadata": {},
   "outputs": [],
   "source": [
    "# Get all CSV files in the folder\n",
    "\n",
    "def get_csv_files():\n",
    "    csv_files = []\n",
    "    for file in os.listdir(path):\n",
    "        if file.endswith(\".csv\"):\n",
    "            csv_files.append(file)\n",
    "    return csv_files"
   ]
  },
  {
   "cell_type": "code",
   "execution_count": 7,
   "metadata": {},
   "outputs": [],
   "source": [
    "# Get all words in the CSV file\n",
    "\n",
    "def get_data(file):\n",
    "    with open(file, 'r') as csvfile:\n",
    "        data = csvfile.readlines()\n",
    "    return data\n"
   ]
  },
  {
   "cell_type": "code",
   "execution_count": 8,
   "metadata": {},
   "outputs": [],
   "source": [
    "# Chose 600 random word pairs from the data\n",
    "\n",
    "def get_random_word_pairs(data):\n",
    "    random_word_pairs = []\n",
    "    for i in range(len(data)):\n",
    "        random_word_pairs.append(random.choice(data))\n",
    "    return random_word_pairs\n"
   ]
  },
  {
   "cell_type": "code",
   "execution_count": 163,
   "metadata": {},
   "outputs": [],
   "source": [
    "# Calculate the Levenshtein distance and Soundex match for each word pair\n",
    "\n",
    "def calculate_distances(random_word_pairs):\n",
    "    json = {'Word 1': [], 'Word 2': [], 'Levenshtein Distance': [], 'Soundex Match': []}\n",
    "    for i in range(0, len(random_word_pairs), 2):\n",
    "        json['Word 1'].append(random_word_pairs[i].strip())\n",
    "        json['Word 2'].append(random_word_pairs[i+1].strip())\n",
    "        json['Levenshtein Distance'].append(Levenshtein.distance(json['Word 1'][-1], json['Word 2'][-1]))\n",
    "        # json['Doublemetaphone Match'].append(calculate_doublemetaphone(json['Word 1'][-1], json['Word 2'][-1]))\n",
    "        json['Soundex Match'].append(soundex.phonetics(json['Word 1'][-1]) == soundex.phonetics(json['Word 2'][-1]))\n",
    "    return json"
   ]
  },
  {
   "cell_type": "code",
   "execution_count": 122,
   "metadata": {},
   "outputs": [],
   "source": [
    "def calculate_doublemetaphone(word1, word2):\n",
    "    if doublemetaphone(word1) == doublemetaphone(word2):\n",
    "        return True\n",
    "    elif doublemetaphone(word1)[0] == doublemetaphone(word2)[0]:\n",
    "        if doublemetaphone(word1)[0] and doublemetaphone(word2)[0] != None:\n",
    "            return True\n",
    "        else:\n",
    "            return False\n",
    "    elif doublemetaphone(word1)[1] == doublemetaphone(word2)[1]:\n",
    "        if doublemetaphone(word1)[1] and doublemetaphone(word2)[1] != None:\n",
    "            return True\n",
    "        else:\n",
    "            return False  \n",
    "    elif doublemetaphone(word1)[0] == doublemetaphone(word2)[1]:\n",
    "        if doublemetaphone(word1)[0] and doublemetaphone(word2)[1] != None:\n",
    "            return True\n",
    "        else:\n",
    "            return False\n",
    "    elif doublemetaphone(word1)[1] == doublemetaphone(word2)[0]:\n",
    "        if doublemetaphone(word1)[1] and doublemetaphone(word2)[0] != None:\n",
    "            return True\n",
    "        else:\n",
    "            return False\n",
    "    else:\n",
    "        return False"
   ]
  },
  {
   "cell_type": "code",
   "execution_count": 34,
   "metadata": {},
   "outputs": [],
   "source": [
    "# Convert the JSON to CSV and save it to the folder\n",
    "\n",
    "def json_to_csv(json, filename):\n",
    "  df = pd.DataFrame(json)\n",
    "\n",
    "  # Get the location of the . in the filename\n",
    "  try:\n",
    "    index = filename.index('.')\n",
    "    letter_index = index - 1\n",
    "\n",
    "    # if filename == 'homophones0.csv':\n",
    "    #   letter_index = filename.index('0')\n",
    "\n",
    "  except ValueError as e:\n",
    "    print(e)\n",
    "\n",
    "  df.to_csv('levenshtein_' + filename[letter_index] + '.csv', index=False, header=csv_header)\n",
    "  return df"
   ]
  },
  {
   "cell_type": "code",
   "execution_count": 154,
   "metadata": {},
   "outputs": [
    {
     "name": "stdout",
     "output_type": "stream",
     "text": [
      "['words_wb1913_b.csv', 'words_wb1913_n.csv', 'words_wb1913_v.csv', 'words_wb1913_w.csv', 'levenshtein_u.csv', 'words_wb1913_j.csv', 'words_wb1913_p.csv', 'words_wb1913_h.csv', 'words_wb1913_g.csv', 'words_wb1913_l.csv', 'words_wb1913_d.csv', 'words_wb1913_f.csv', 'words_wb1913_e.csv', 'words_wb1913_a.csv', 'words_wb1913_s.csv', 'homophones0.csv', 'words_wb1913_r.csv', 'words_wb1913_m.csv', 'words_wb1913_k.csv', 'words_wb1913_new.csv', 'words_wb1913_u.csv', 'words_wb1913_c.csv', 'words_wb1913_t.csv', 'words_wb1913_q.csv', 'words_wb1913_i.csv', 'words_wb1913_z.csv', 'words_wb1913_y.csv', 'words_wb1913_o.csv', 'words_wb1913_x.csv']\n"
     ]
    },
    {
     "data": {
      "text/html": [
       "<div>\n",
       "<style scoped>\n",
       "    .dataframe tbody tr th:only-of-type {\n",
       "        vertical-align: middle;\n",
       "    }\n",
       "\n",
       "    .dataframe tbody tr th {\n",
       "        vertical-align: top;\n",
       "    }\n",
       "\n",
       "    .dataframe thead th {\n",
       "        text-align: right;\n",
       "    }\n",
       "</style>\n",
       "<table border=\"1\" class=\"dataframe\">\n",
       "  <thead>\n",
       "    <tr style=\"text-align: right;\">\n",
       "      <th></th>\n",
       "      <th>Word 1</th>\n",
       "      <th>Word 2</th>\n",
       "      <th>Levenshtein Distance</th>\n",
       "      <th>Doublemetaphone Match</th>\n",
       "    </tr>\n",
       "  </thead>\n",
       "  <tbody>\n",
       "    <tr>\n",
       "      <th>0</th>\n",
       "      <td>Cortices</td>\n",
       "      <td>Cotangent</td>\n",
       "      <td>6</td>\n",
       "      <td>False</td>\n",
       "    </tr>\n",
       "    <tr>\n",
       "      <th>1</th>\n",
       "      <td>Copper-fastened</td>\n",
       "      <td>Corrugating</td>\n",
       "      <td>9</td>\n",
       "      <td>False</td>\n",
       "    </tr>\n",
       "    <tr>\n",
       "      <th>2</th>\n",
       "      <td>Cappeak</td>\n",
       "      <td>Clysmic</td>\n",
       "      <td>6</td>\n",
       "      <td>False</td>\n",
       "    </tr>\n",
       "    <tr>\n",
       "      <th>3</th>\n",
       "      <td>Carbonade</td>\n",
       "      <td>Conventionalism</td>\n",
       "      <td>11</td>\n",
       "      <td>False</td>\n",
       "    </tr>\n",
       "    <tr>\n",
       "      <th>4</th>\n",
       "      <td>Chicken-breasted</td>\n",
       "      <td>Cowl</td>\n",
       "      <td>15</td>\n",
       "      <td>False</td>\n",
       "    </tr>\n",
       "  </tbody>\n",
       "</table>\n",
       "</div>"
      ],
      "text/plain": [
       "             Word 1           Word 2  Levenshtein Distance  \\\n",
       "0          Cortices        Cotangent                     6   \n",
       "1   Copper-fastened      Corrugating                     9   \n",
       "2           Cappeak          Clysmic                     6   \n",
       "3         Carbonade  Conventionalism                    11   \n",
       "4  Chicken-breasted             Cowl                    15   \n",
       "\n",
       "   Doublemetaphone Match  \n",
       "0                  False  \n",
       "1                  False  \n",
       "2                  False  \n",
       "3                  False  \n",
       "4                  False  "
      ]
     },
     "execution_count": 154,
     "metadata": {},
     "output_type": "execute_result"
    }
   ],
   "source": [
    "# Test code for one specific CSV file\n",
    "\n",
    "csv_file = get_csv_files()\n",
    "print(csv_file)\n",
    "data = get_data(csv_file[21])\n",
    "\n",
    "if data[0].strip() == '0':\n",
    "    data.pop(0)\n",
    "\n",
    "if len(data) %2 != 0:\n",
    "    data.pop()\n",
    "\n",
    "random_word_pairs = get_random_word_pairs(data)\n",
    "json = calculate_distances(random_word_pairs)\n",
    "df = json_to_csv(json, 'test1_filu.csv')\n",
    "df.head()"
   ]
  },
  {
   "cell_type": "code",
   "execution_count": 17,
   "metadata": {},
   "outputs": [],
   "source": [
    "# # Open the 'homophones_fixed.csv' file\n",
    "# csv_file = get_csv_files()\n",
    "\n",
    "# data = get_data(csv_file[19])\n",
    "\n",
    "# result = []\n",
    "# reader = csv.reader(data)\n",
    "# for row in reader:\n",
    "#     result.extend(row)\n",
    "\n",
    "# # Save the list as a file with each word separated by a newline\n",
    "# with open('homophones_fixed_fixed.csv', 'w') as f:\n",
    "#     for item in result:\n",
    "#         f.write(\"%s\\n\" % item)"
   ]
  },
  {
   "cell_type": "code",
   "execution_count": 165,
   "metadata": {},
   "outputs": [
    {
     "data": {
      "text/html": [
       "<div>\n",
       "<style scoped>\n",
       "    .dataframe tbody tr th:only-of-type {\n",
       "        vertical-align: middle;\n",
       "    }\n",
       "\n",
       "    .dataframe tbody tr th {\n",
       "        vertical-align: top;\n",
       "    }\n",
       "\n",
       "    .dataframe thead th {\n",
       "        text-align: right;\n",
       "    }\n",
       "</style>\n",
       "<table border=\"1\" class=\"dataframe\">\n",
       "  <thead>\n",
       "    <tr style=\"text-align: right;\">\n",
       "      <th></th>\n",
       "      <th>Word 1</th>\n",
       "      <th>Word 2</th>\n",
       "      <th>Levenshtein Distance</th>\n",
       "      <th>Soundex Match</th>\n",
       "    </tr>\n",
       "  </thead>\n",
       "  <tbody>\n",
       "    <tr>\n",
       "      <th>0</th>\n",
       "      <td>Abel</td>\n",
       "      <td>able</td>\n",
       "      <td>3</td>\n",
       "      <td>True</td>\n",
       "    </tr>\n",
       "    <tr>\n",
       "      <th>1</th>\n",
       "      <td>Adam</td>\n",
       "      <td>atom</td>\n",
       "      <td>3</td>\n",
       "      <td>True</td>\n",
       "    </tr>\n",
       "    <tr>\n",
       "      <th>2</th>\n",
       "      <td>Cain</td>\n",
       "      <td>cane</td>\n",
       "      <td>3</td>\n",
       "      <td>True</td>\n",
       "    </tr>\n",
       "    <tr>\n",
       "      <th>3</th>\n",
       "      <td>Chile</td>\n",
       "      <td>chilly</td>\n",
       "      <td>3</td>\n",
       "      <td>True</td>\n",
       "    </tr>\n",
       "    <tr>\n",
       "      <th>4</th>\n",
       "      <td>Czech</td>\n",
       "      <td>check</td>\n",
       "      <td>3</td>\n",
       "      <td>False</td>\n",
       "    </tr>\n",
       "  </tbody>\n",
       "</table>\n",
       "</div>"
      ],
      "text/plain": [
       "  Word 1  Word 2  Levenshtein Distance  Soundex Match\n",
       "0   Abel    able                     3           True\n",
       "1   Adam    atom                     3           True\n",
       "2   Cain    cane                     3           True\n",
       "3  Chile  chilly                     3           True\n",
       "4  Czech   check                     3          False"
      ]
     },
     "execution_count": 165,
     "metadata": {},
     "output_type": "execute_result"
    }
   ],
   "source": [
    "# Test code for homophones.csv file without randomization\n",
    "\n",
    "csv_file = get_csv_files()\n",
    "\n",
    "# Get index of the file 'hommophones0.csv' in the list of files\n",
    "index = csv_file.index('homophones0.csv')\n",
    "\n",
    "data = get_data(csv_file[index])\n",
    "\n",
    "if data[0].strip() == '0':\n",
    "    data.pop(0)\n",
    "\n",
    "if len(data) %2 != 0:\n",
    "    data.pop()\n",
    "\n",
    "word_pairs = data\n",
    "json = calculate_distances(word_pairs)\n",
    "df = json_to_csv(json, 'levenshtein_homophones.csv')\n",
    "df.head()"
   ]
  },
  {
   "cell_type": "code",
   "execution_count": 162,
   "metadata": {},
   "outputs": [],
   "source": [
    "csv_files = get_csv_files()\n",
    "\n",
    "for file in csv_files:\n",
    "    data = get_data(file)\n",
    "\n",
    "    if data[0].strip() == '0':\n",
    "        data.pop(0)\n",
    "\n",
    "    if len(data) %2 != 0:\n",
    "        data.pop()\n",
    "\n",
    "    random_word_pairs = get_random_word_pairs(data)\n",
    "    json = calculate_distances(random_word_pairs)\n",
    "    df = json_to_csv(json, file)"
   ]
  }
 ],
 "metadata": {
  "kernelspec": {
   "display_name": "Python 3.8.10 64-bit",
   "language": "python",
   "name": "python3"
  },
  "language_info": {
   "codemirror_mode": {
    "name": "ipython",
    "version": 3
   },
   "file_extension": ".py",
   "mimetype": "text/x-python",
   "name": "python",
   "nbconvert_exporter": "python",
   "pygments_lexer": "ipython3",
   "version": "3.8.10"
  },
  "orig_nbformat": 4,
  "vscode": {
   "interpreter": {
    "hash": "916dbcbb3f70747c44a77c7bcd40155683ae19c65e1c03b4aa3499c5328201f1"
   }
  }
 },
 "nbformat": 4,
 "nbformat_minor": 2
}
